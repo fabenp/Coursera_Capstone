{
 "cells": [
  {
   "cell_type": "markdown",
   "metadata": {},
   "source": [
    "# Capstone Project - The Battle of the Neighborhoods(1/2)\n",
    "Applied Data Science Capstone by IBM/Coursera"
   ]
  },
  {
   "cell_type": "markdown",
   "metadata": {},
   "source": [
    "## Introduction"
   ]
  },
  {
   "cell_type": "markdown",
   "metadata": {},
   "source": [
    "This project is about electing the best place for a restaurant in Paris. The huge metropolitan with many neighborhoods and the success of a restaurant depends a lot in the location.\n",
    "So here, I investigated the different neighborhood and I used different criteria to reduce the number of possibilities to two and then to the optimal one. This project is of interest to the restaurant owners or future owners. It gives a good idea of the cost of neighborhood and their most common venues.\n"
   ]
  },
  {
   "cell_type": "markdown",
   "metadata": {},
   "source": [
    "## Data"
   ]
  },
  {
   "cell_type": "markdown",
   "metadata": {},
   "source": [
    "Foursquare was used to locate metro stations, cafes, bistros and restaurants in the first part.   \n",
    "It was afterwards used to investigate the surrounding of the final two places selected by considering all the categories ( shops, schools, office, galleries…)  \n",
    "\n",
    "As the data of Foursquare have Nan as value for the name of the neighborhood, but give the  postal Code, I looked for a website that have the  postal Code and the name of each neighborhood to complement my data:  \n",
    "\n",
    "https://www.worldpostalcodes.org/en/france/arrondissement/map-of-postal-codes-in-paris  \n",
    "\n",
    "I couldn’t find the exact cost of rent for commercial lbuildings for all neighborhoods so I compared instead the price of sell of the meter square based on this website:  \n",
    "\n",
    "https://edito.seloger.com/actualites/barometre-lpi-seloger/paris-quel-prix-immobilier-dans-votre-arrondissement-article-31984.html,\n"
   ]
  },
  {
   "cell_type": "code",
   "execution_count": null,
   "metadata": {},
   "outputs": [],
   "source": []
  }
 ],
 "metadata": {
  "kernelspec": {
   "display_name": "Python 3",
   "language": "python",
   "name": "python3"
  },
  "language_info": {
   "codemirror_mode": {
    "name": "ipython",
    "version": 3
   },
   "file_extension": ".py",
   "mimetype": "text/x-python",
   "name": "python",
   "nbconvert_exporter": "python",
   "pygments_lexer": "ipython3",
   "version": "3.6.5"
  }
 },
 "nbformat": 4,
 "nbformat_minor": 2
}
